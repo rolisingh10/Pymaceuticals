{
 "cells": [
  {
   "cell_type": "markdown",
   "id": "9a134573",
   "metadata": {},
   "source": [
    "<div class=\"alert alert-info\">\n",
    "\n",
    "# Pymaceuticals Inc.\n",
    "\n",
    "\n",
    "### Analysis\n",
    "The drug company Pymaceuticals is testing drugs for treating squamous cell carcinoma (SCC), a commonly occurring form of skin cancer. We are looking at the data of 249 mice and they were administered 9 drug treatments and a placebo. Almost equal amount of male and female mice were tested.\n",
    "After analysing the data we can conclude:-\n",
    "* If we look at the summary_stats_tumor table, we can see that the drug Capomulin is more effective as compared to other drug regimens. The only other drug that is better than it is Ramicane.This is also evident by the box plots.\n",
    "* The box plots also show that there are not many outliers in all the four drug regimens. \n",
    "* If we look at the first line plot of tumor volume vs. time point for a single mouse treated with Capomulin, we can see that first the tumor volume increases and then it starts decreasing.\n",
    "* Finally if we look at the last two scatter plots, we can conclude that there is a positive correlation between average weight of mouse and average tumor volume(heavier the mouse bigger the tumor). The coefficient of correlation is 0.84 and it is quite high.</div>\n",
    "\n"
   ]
  },
  {
   "cell_type": "code",
   "execution_count": null,
   "id": "f534ca74",
   "metadata": {},
   "outputs": [],
   "source": [
    "# Dependencies and Setup\n",
    "import matplotlib.pyplot as plt\n",
    "import pandas as pd\n",
    "import scipy.stats as st\n",
    "\n",
    "# Study data files\n",
    "mouse_metadata_path = \"data/Mouse_metadata.csv\"\n",
    "study_results_path = \"data/Study_results.csv\"\n",
    "\n",
    "# Read the mouse data and the study results\n",
    "mouse_metadata = pd.read_csv(mouse_metadata_path)\n",
    "study_results = pd.read_csv(study_results_path)\n",
    "\n",
    "# Combine the data into a single DataFrame\n",
    "mouse_merged = pd.merge(mouse_metadata, study_results, how = 'right', on =['Mouse ID','Mouse ID'])\n",
    "# Display the data table for preview\n",
    "mouse_merged = mouse_merged[['Mouse ID', 'Timepoint', 'Tumor Volume (mm3)', 'Metastatic Sites', \n",
    "                               'Drug Regimen', 'Sex', 'Age_months', 'Weight (g)']]\n",
    "\n",
    "mouse_merged.head()\n",
    "\n"
   ]
  },
  {
   "cell_type": "code",
   "execution_count": null,
   "id": "e29f2337",
   "metadata": {},
   "outputs": [],
   "source": [
    "# Checking the number of mice.\n",
    "mouse_merged['Mouse ID'].nunique()"
   ]
  },
  {
   "cell_type": "code",
   "execution_count": null,
   "id": "9c87feab",
   "metadata": {},
   "outputs": [],
   "source": [
    "# Our data should be uniquely identified by Mouse ID and Timepoint\n",
    "# Get the duplicate mice by ID number that shows up for Mouse ID and Timepoint. \n",
    "duplicate_mouse = mouse_merged.loc[mouse_merged.duplicated(subset = ['Mouse ID','Timepoint']),'Mouse ID'].unique()\n",
    "duplicate_mouse"
   ]
  },
  {
   "cell_type": "code",
   "execution_count": null,
   "id": "bc586d55",
   "metadata": {},
   "outputs": [],
   "source": [
    "# Optional: Get all the data for the duplicate mouse ID. \n",
    "duplicate_mouse_df = mouse_merged.loc[mouse_merged['Mouse ID'] == 'g989', :]\n",
    "duplicate_mouse_df"
   ]
  },
  {
   "cell_type": "code",
   "execution_count": null,
   "id": "8a0f7ca6",
   "metadata": {},
   "outputs": [],
   "source": [
    "# Create a clean DataFrame by dropping the duplicate mouse by its ID.\n",
    "clean_df = mouse_merged.drop([107,137,329,360,620,681,815,869,950,1111,1195,1380,1592])\n",
    "clean_df.head()\n"
   ]
  },
  {
   "cell_type": "code",
   "execution_count": null,
   "id": "f85feb94",
   "metadata": {},
   "outputs": [],
   "source": [
    "# Checking the number of mice in the clean DataFrame.\n",
    "clean_df['Mouse ID'].nunique()"
   ]
  },
  {
   "cell_type": "markdown",
   "id": "491932db",
   "metadata": {},
   "source": [
    "# Summary Statistics"
   ]
  },
  {
   "cell_type": "code",
   "execution_count": null,
   "id": "b072d1ab",
   "metadata": {},
   "outputs": [],
   "source": [
    "# Generate a summary statistics table of mean, median, variance, standard deviation, and SEM of the tumor volume for each regimen\n",
    "\n",
    "# Use groupby and summary statistical methods to calculate the following properties of each drug regimen: \n",
    "# mean, median, variance, standard deviation, and SEM of the tumor volume. \n",
    "\n",
    "clean_df_grouped = clean_df.groupby(['Drug Regimen'])\n",
    "\n",
    "mean_drug_regimen = clean_df_grouped['Tumor Volume (mm3)'].mean()\n",
    "median_drug_regimen = clean_df_grouped['Tumor Volume (mm3)'].median()\n",
    "variance_drug_regimen = clean_df_grouped['Tumor Volume (mm3)'].var()\n",
    "sd_drug_regimen = clean_df_grouped['Tumor Volume (mm3)'].std()\n",
    "sem_drug_regimen = clean_df_grouped['Tumor Volume (mm3)'].sem()\n",
    "\n",
    "# Assemble the resulting series into a single summary DataFrame.\n",
    "\n",
    "summary_stats_tumor = pd.DataFrame({'Mean Tumor Volume':mean_drug_regimen, 'Median Tumor Volume':median_drug_regimen,\n",
    "                                   'Tumor Volume Variance':variance_drug_regimen, 'Tumor Volume Std. Dev.':sd_drug_regimen,\n",
    "                                   'Tumor Volume Std. Err.':sem_drug_regimen})\n",
    "summary_stats_tumor"
   ]
  },
  {
   "cell_type": "code",
   "execution_count": null,
   "id": "3b70d681",
   "metadata": {},
   "outputs": [],
   "source": [
    "# A more advanced method to generate a summary statistics table of mean, median, variance, standard deviation,\n",
    "# and SEM of the tumor volume for each regimen (only one method is required in the solution)\n",
    "\n",
    "# Using the aggregation method, produce the same summary statistics in a single line\n",
    "summary_stats_tumor1 = clean_df.groupby(['Drug Regimen'])['Tumor Volume (mm3)'].aggregate(['mean','median','var','std','sem'])\n",
    "summary_stats_tumor1"
   ]
  },
  {
   "cell_type": "markdown",
   "id": "29167117",
   "metadata": {},
   "source": [
    "# Bar and Pie Charts"
   ]
  },
  {
   "cell_type": "code",
   "execution_count": null,
   "id": "da82cbbd",
   "metadata": {},
   "outputs": [],
   "source": [
    "# Generate a bar plot showing the total number of rows (Mouse ID/Timepoints) for each drug regimen using Pandas.\n",
    "mouse_id = clean_df['Drug Regimen'].value_counts()\n",
    "mouse_id\n",
    "pandas_plot = mouse_id.plot( kind = 'bar',color = 'b')\n",
    "plt.xlabel('Drug Regimen')\n",
    "plt.ylabel('# of Observed Mouse Timepoints')\n",
    "\n",
    "\n"
   ]
  },
  {
   "cell_type": "code",
   "execution_count": null,
   "id": "28576d05",
   "metadata": {},
   "outputs": [],
   "source": [
    "# Generate a bar plot showing the total number of rows (Mouse ID/Timepoints) for each drug regimen using pyplot.\n",
    "fig, ax = plt.subplots()\n",
    "plot = ax.bar(mouse_id.index, mouse_id.values, color ='b')\n",
    "ax.set_xlabel('Drug Regimen')\n",
    "ax.set_ylabel ('# of Observed Mouse Timepoints')\n",
    "plt.xticks(rotation='vertical')\n",
    "plt.show()\n"
   ]
  },
  {
   "cell_type": "code",
   "execution_count": null,
   "id": "add73731",
   "metadata": {},
   "outputs": [],
   "source": [
    "# Generate a pie plot showing the distribution of female versus male mice using Pandas\n",
    "sex_count = clean_df['Sex'].value_counts()\n",
    "sex_count\n",
    "pie_pandas = sex_count.plot( kind = 'pie',autopct= \"%1.1f%%\")\n",
    "plt.show()"
   ]
  },
  {
   "cell_type": "code",
   "execution_count": null,
   "id": "0bb85319",
   "metadata": {},
   "outputs": [],
   "source": [
    "# Generate a pie plot showing the distribution of female versus male mice using pyplot\n",
    "labels = ['Male','Female']\n",
    "fig,ax = plt.subplots()\n",
    "ax.pie(sex_count, labels = labels, autopct = \"%1.1f%%\"  )\n",
    "#plt.ylabel('Sex')\n",
    "plt.axis('equal')\n",
    "ax.set_ylabel('Sex')\n",
    "\n",
    "plt.show()\n"
   ]
  },
  {
   "cell_type": "markdown",
   "id": "41c0e42d",
   "metadata": {},
   "source": [
    "# Quartiles, Outliers and Boxplots"
   ]
  },
  {
   "cell_type": "code",
   "execution_count": null,
   "id": "15facd2a",
   "metadata": {},
   "outputs": [],
   "source": [
    "# Calculate the final tumor volume of each mouse across four of the treatment regimens:  \n",
    "# Capomulin, Ramicane, Infubinol, and Ceftamin\n",
    "\n",
    "# Start by getting the last (greatest) timepoint for each mouse\n",
    "last_timepoint = clean_df.groupby(['Mouse ID'])['Timepoint'].max()\n",
    "last_timepoint_df = pd.DataFrame(last_timepoint)\n",
    "last_timepoint_df.head()\n",
    "\n",
    "\n",
    "\n"
   ]
  },
  {
   "cell_type": "code",
   "execution_count": null,
   "id": "939489d8",
   "metadata": {},
   "outputs": [],
   "source": [
    "# Merge this group df with the original DataFrame to get the tumor volume at the last timepoint\n",
    "\n",
    "merged_timepoint = pd.merge(last_timepoint_df, clean_df, on = ('Mouse ID','Timepoint'))\n",
    "merged_timepoint"
   ]
  },
  {
   "cell_type": "code",
   "execution_count": null,
   "id": "5722b20a",
   "metadata": {},
   "outputs": [],
   "source": [
    "# Put treatments into a list for for loop (and later for plot labels)\n",
    "treatments = ['Capomulin', 'Ramicane', 'Infubinol', 'Ceftamin']\n",
    "\n",
    "# Create empty list to fill with tumor vol data (for plotting)\n",
    "tumor_vol_data =[]\n",
    "\n",
    "# Calculate the IQR and quantitatively determine if there are any potential outliers. \n",
    "for treatment in treatments:\n",
    "    treatment_df = merged_timepoint.loc[merged_timepoint['Drug Regimen'] == treatment]\n",
    "    tumor_vol = treatment_df['Tumor Volume (mm3)']\n",
    "    tumor_vol_data.append(tumor_vol)\n",
    "    quartiles = tumor_vol.quantile([.25,.5,.75])\n",
    "    Quartile1 = quartiles[0.25]\n",
    "    Quartile3 = quartiles[0.75]\n",
    "    iqr = Quartile3 - Quartile1\n",
    "    print(f'IQR for {treatment}: {iqr}')\n",
    "    \n",
    "    lower_bound = Quartile1 - (1.5*iqr)\n",
    "    upper_bound = Quartile3 + (1.5*iqr)\n",
    "    outliers = tumor_vol.loc[(treatment_df['Tumor Volume (mm3)'] > upper_bound) | \n",
    "                                        (treatment_df['Tumor Volume (mm3)'] < lower_bound)]\n",
    "    print(f\"{treatment}'s potential outlier {outliers}\")\n",
    "    \n",
    "\n"
   ]
  },
  {
   "cell_type": "code",
   "execution_count": null,
   "id": "2e83bd70",
   "metadata": {},
   "outputs": [],
   "source": [
    "# Generate a box plot that shows the distrubution of the tumor volume for each treatment group.\n",
    "\n",
    "plt.boxplot(tumor_vol_data, flierprops = dict(markerfacecolor = 'r',marker ='o'))\n",
    "plt.ylabel(\"Final Tumor Volume(mm3)\")\n",
    "plt.title('Final Tumor Volume by Drug')\n",
    "\n",
    "plt.xticks([1,2,3,4],treatments)\n",
    "plt.show()\n"
   ]
  },
  {
   "cell_type": "markdown",
   "id": "54bf9ad5",
   "metadata": {},
   "source": [
    "# Line and Scatter Plots"
   ]
  },
  {
   "cell_type": "code",
   "execution_count": null,
   "id": "c80241f9",
   "metadata": {},
   "outputs": [],
   "source": [
    "# Generate a line plot of tumor volume vs. time point for a single mouse treated with Capomulin\n",
    "\n",
    "Capomulin_data = clean_df.loc[clean_df['Drug Regimen'] == 'Capomulin']\n",
    "Capomulin_data = Capomulin_data.reset_index()\n",
    "Capomulin_data\n",
    "mouse_r944 = Capomulin_data.loc[Capomulin_data['Mouse ID'] == 'r944']\n",
    "mouse_r944\n",
    "# plot a line plot \n",
    "y = mouse_r944['Tumor Volume (mm3)']\n",
    "x = mouse_r944['Timepoint']\n",
    "plt.plot(x, y, marker = 'o')\n",
    "plt.title('Capomulin Treatment of Mouse r944')\n",
    "plt.xlabel('Timepoint(days)')\n",
    "plt.ylabel('Tumor Volume (mm3)')\n",
    "plt.show()"
   ]
  },
  {
   "cell_type": "code",
   "execution_count": null,
   "id": "f558f161",
   "metadata": {},
   "outputs": [],
   "source": [
    "# Generate a scatter plot of mouse weight vs. the average observed tumor volume for the entire Capomulin regimen\n",
    "Capomulin_avg = Capomulin_data.groupby(['Mouse ID']).mean(numeric_only = True)\n",
    "Capomulin_avg\n",
    "plt.scatter(Capomulin_avg['Weight (g)'], Capomulin_avg['Tumor Volume (mm3)'])\n",
    "plt.xlabel('Weight(g)')\n",
    "plt.ylabel('Average Tumor Volume(mm3)')\n",
    "plt.title('Average Tumor Volume by Weight')\n",
    "plt.show()"
   ]
  },
  {
   "cell_type": "markdown",
   "id": "82f9267d",
   "metadata": {},
   "source": [
    "# Correlation and Regression"
   ]
  },
  {
   "cell_type": "code",
   "execution_count": null,
   "id": "7097a6cb",
   "metadata": {},
   "outputs": [],
   "source": [
    "# Calculate the correlation coefficient and a linear regression model \n",
    "# for mouse weight and average observed tumor volume for the entire Capomulin regimen\n",
    "\n",
    "x = Capomulin_avg[\"Weight (g)\"]\n",
    "y = Capomulin_avg[\"Tumor Volume (mm3)\"]\n",
    "corr = st.pearsonr(x,y)\n",
    "#print the correlation coefficient\n",
    "print(f'The correlation between mouse weight and the average tumor volume is {round(corr[0],2)}.')\n",
    "\n",
    "# Calculate linear regression model\n",
    "(slope, intercept, rvalue, pvalue, stderr) = st.linregress(x,y)\n",
    "regress_values = slope * x + intercept\n",
    "\n",
    "#plot scatter plot\n",
    "plt.scatter(x,y)\n",
    "plt.plot(x,regress_values ,color ='r')\n",
    "plt.xlabel('Weight(g)')\n",
    "plt.ylabel('Average Tumor Volume(mm3)')\n",
    "plt.title('Average Tumor Volume by Weight')\n",
    "plt.show()\n"
   ]
  },
  {
   "cell_type": "code",
   "execution_count": null,
   "id": "8dd23a69",
   "metadata": {},
   "outputs": [],
   "source": []
  }
 ],
 "metadata": {
  "kernelspec": {
   "display_name": "Python 3 (ipykernel)",
   "language": "python",
   "name": "python3"
  },
  "language_info": {
   "codemirror_mode": {
    "name": "ipython",
    "version": 3
   },
   "file_extension": ".py",
   "mimetype": "text/x-python",
   "name": "python",
   "nbconvert_exporter": "python",
   "pygments_lexer": "ipython3",
   "version": "3.10.9"
  }
 },
 "nbformat": 4,
 "nbformat_minor": 5
}
